{
 "cells": [
  {
   "cell_type": "code",
   "execution_count": 3,
   "id": "93e385af",
   "metadata": {},
   "outputs": [],
   "source": [
    "import pandas as pd"
   ]
  },
  {
   "cell_type": "code",
   "execution_count": 4,
   "id": "a23ba55b",
   "metadata": {},
   "outputs": [],
   "source": [
    "# Load the CSV file into a DataFrame\n",
    "df = pd.read_csv(\"toronto_neighbourhood_population_income_old_housings_apartments_health.csv\")"
   ]
  },
  {
   "cell_type": "code",
   "execution_count": 5,
   "id": "cd2f9f88",
   "metadata": {},
   "outputs": [
    {
     "name": "stdout",
     "output_type": "stream",
     "text": [
      "Top 5 Neighborhoods for Pest Control Business:\n"
     ]
    },
    {
     "data": {
      "text/html": [
       "<div>\n",
       "<style scoped>\n",
       "    .dataframe tbody tr th:only-of-type {\n",
       "        vertical-align: middle;\n",
       "    }\n",
       "\n",
       "    .dataframe tbody tr th {\n",
       "        vertical-align: top;\n",
       "    }\n",
       "\n",
       "    .dataframe thead th {\n",
       "        text-align: right;\n",
       "    }\n",
       "</style>\n",
       "<table border=\"1\" class=\"dataframe\">\n",
       "  <thead>\n",
       "    <tr style=\"text-align: right;\">\n",
       "      <th></th>\n",
       "      <th>Postal Code</th>\n",
       "      <th>Population</th>\n",
       "      <th>Income</th>\n",
       "      <th>Number of Old Housings</th>\n",
       "      <th>Number of Apartment Units</th>\n",
       "      <th>Number of Health Professionals</th>\n",
       "      <th>Composite Score</th>\n",
       "    </tr>\n",
       "  </thead>\n",
       "  <tbody>\n",
       "    <tr>\n",
       "      <th>71</th>\n",
       "      <td>M6H</td>\n",
       "      <td>43730.0</td>\n",
       "      <td>38180.0</td>\n",
       "      <td>10730</td>\n",
       "      <td>1695</td>\n",
       "      <td>1215</td>\n",
       "      <td>0.729396</td>\n",
       "    </tr>\n",
       "    <tr>\n",
       "      <th>6</th>\n",
       "      <td>M1K</td>\n",
       "      <td>48175.0</td>\n",
       "      <td>40515.0</td>\n",
       "      <td>6445</td>\n",
       "      <td>1715</td>\n",
       "      <td>2015</td>\n",
       "      <td>0.660844</td>\n",
       "    </tr>\n",
       "    <tr>\n",
       "      <th>0</th>\n",
       "      <td>M1B</td>\n",
       "      <td>65555.0</td>\n",
       "      <td>55310.0</td>\n",
       "      <td>860</td>\n",
       "      <td>2040</td>\n",
       "      <td>2750</td>\n",
       "      <td>0.658032</td>\n",
       "    </tr>\n",
       "    <tr>\n",
       "      <th>36</th>\n",
       "      <td>M4C</td>\n",
       "      <td>46440.0</td>\n",
       "      <td>38230.0</td>\n",
       "      <td>9470</td>\n",
       "      <td>1110</td>\n",
       "      <td>1505</td>\n",
       "      <td>0.656627</td>\n",
       "    </tr>\n",
       "    <tr>\n",
       "      <th>22</th>\n",
       "      <td>M2N</td>\n",
       "      <td>75100.0</td>\n",
       "      <td>65850.0</td>\n",
       "      <td>2960</td>\n",
       "      <td>615</td>\n",
       "      <td>2945</td>\n",
       "      <td>0.642444</td>\n",
       "    </tr>\n",
       "  </tbody>\n",
       "</table>\n",
       "</div>"
      ],
      "text/plain": [
       "   Postal Code  Population   Income  Number of Old Housings  \\\n",
       "71         M6H     43730.0  38180.0                   10730   \n",
       "6          M1K     48175.0  40515.0                    6445   \n",
       "0          M1B     65555.0  55310.0                     860   \n",
       "36         M4C     46440.0  38230.0                    9470   \n",
       "22         M2N     75100.0  65850.0                    2960   \n",
       "\n",
       "    Number of Apartment Units  Number of Health Professionals  Composite Score  \n",
       "71                       1695                            1215         0.729396  \n",
       "6                        1715                            2015         0.660844  \n",
       "0                        2040                            2750         0.658032  \n",
       "36                       1110                            1505         0.656627  \n",
       "22                        615                            2945         0.642444  "
      ]
     },
     "metadata": {},
     "output_type": "display_data"
    }
   ],
   "source": [
    "# Normalize the data using min-max scaling\n",
    "df['Normalized Population'] = (df['Population'] - df['Population'].min()) / (df['Population'].max() - df['Population'].min())\n",
    "df['Normalized Income'] = (df['Income'] - df['Income'].min()) / (df['Income'].max() - df['Income'].min())\n",
    "df['Normalized Old Housings'] = (df['Number of Old Housings'] - df['Number of Old Housings'].min()) / (df['Number of Old Housings'].max() - df['Number of Old Housings'].min())\n",
    "df['Normalized Apartment Units'] = (df['Number of Apartment Units'] - df['Number of Apartment Units'].min()) / (df['Number of Apartment Units'].max() - df['Number of Apartment Units'].min())\n",
    "df['Normalized Health Professionals'] = (df['Number of Health Professionals'] - df['Number of Health Professionals'].min()) / (df['Number of Health Professionals'].max() - df['Number of Health Professionals'].min())\n",
    "\n",
    "# Calculate composite score (higher is better)\n",
    "df['Composite Score'] = (\n",
    "    0.3 * df['Normalized Old Housings'] +\n",
    "    0.25 * df['Normalized Population'] +\n",
    "    0.2 * df['Normalized Apartment Units'] +\n",
    "    0.15 * df['Normalized Income'] +\n",
    "    0.1 * df['Normalized Health Professionals']\n",
    ")\n",
    "\n",
    "# Sort neighborhoods based on the composite score\n",
    "top_neighborhoods = df.sort_values(by='Composite Score', ascending=False).head(5)\n",
    "\n",
    "# Display the top 5 neighborhoods\n",
    "print(\"Top 5 Neighborhoods for Pest Control Business:\")\n",
    "display(top_neighborhoods[['Postal Code', 'Population', 'Income', 'Number of Old Housings', 'Number of Apartment Units', 'Number of Health Professionals', 'Composite Score']])"
   ]
  }
 ],
 "metadata": {
  "kernelspec": {
   "display_name": "Python 3 (ipykernel)",
   "language": "python",
   "name": "python3"
  },
  "language_info": {
   "codemirror_mode": {
    "name": "ipython",
    "version": 3
   },
   "file_extension": ".py",
   "mimetype": "text/x-python",
   "name": "python",
   "nbconvert_exporter": "python",
   "pygments_lexer": "ipython3",
   "version": "3.11.6"
  }
 },
 "nbformat": 4,
 "nbformat_minor": 5
}
